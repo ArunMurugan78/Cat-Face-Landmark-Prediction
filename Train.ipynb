{
 "cells": [
  {
   "cell_type": "markdown",
   "metadata": {},
   "source": [
    " The model is traned in Kaggle using this data set : <a href=\"https://www.kaggle.com/crawford/cat-dataset?rvi=1\" >https://www.kaggle.com/crawford/cat-dataset?rvi=1</a>"
   ]
  },
  {
   "cell_type": "code",
   "execution_count": null,
   "metadata": {
    "_cell_guid": "b1076dfc-b9ad-4769-8c92-a6c4dae69d19",
    "_uuid": "8f2839f25d086af736a60e9eeb907d3b93b6e0e5"
   },
   "outputs": [],
   "source": [
    "# This Python 3 environment comes with many helpful analytics libraries installed\n",
    "# It is defined by the kaggle/python Docker image: https://github.com/kaggle/docker-python\n",
    "# For example, here's several helpful packages to load\n",
    "\n",
    "import numpy as np # linear algebra\n",
    "import pandas as pd # data processing, CSV file I/O (e.g. pd.read_csv)\n",
    "\n",
    "# Input data files are available in the read-only \"../input/\" directory\n",
    "# For example, running this (by clicking run or pressing Shift+Enter) will list all files under the input directory\n",
    "\n",
    "import os\n",
    "# for dirname, _, filenames in os.walk('/kaggle/input'):\n",
    "#     for filename in filenames:\n",
    "#         print(os.path.join(dirname, filename))\n",
    "\n",
    "# You can write up to 5GB to the current directory (/kaggle/working/) that gets preserved as output when you create a version using \"Save & Run All\" \n",
    "# You can also write temporary files to /kaggle/temp/, but they won't be saved outside of the current session"
   ]
  },
  {
   "cell_type": "code",
   "execution_count": null,
   "metadata": {
    "_cell_guid": "79c7e3d0-c299-4dcb-8224-4455121ee9b0",
    "_uuid": "d629ff2d2480ee46fbb7e2d37f6b5fab8052498a"
   },
   "outputs": [],
   "source": [
    "import tensorflow as tf\n",
    "import cv2\n",
    "import matplotlib.pyplot as plt"
   ]
  },
  {
   "cell_type": "markdown",
   "metadata": {},
   "source": [
    "Let's See a Sample Image  of a Cat with the points marked !"
   ]
  },
  {
   "cell_type": "code",
   "execution_count": null,
   "metadata": {},
   "outputs": [],
   "source": [
    "img  =  cv2.cvtColor(cv2.imread('../input/cat-dataset/CAT_00/00000365_028.jpg'),cv2.COLOR_BGR2RGB)\n",
    "img2 = cv2.resize(img,(300,300))"
   ]
  },
  {
   "cell_type": "code",
   "execution_count": null,
   "metadata": {},
   "outputs": [],
   "source": [
    "file = open('../input/cat-dataset/CAT_00/00000365_028.jpg.cat')"
   ]
  },
  {
   "cell_type": "code",
   "execution_count": null,
   "metadata": {},
   "outputs": [],
   "source": [
    "points = file.read().strip().split(' ')"
   ]
  },
  {
   "cell_type": "code",
   "execution_count": null,
   "metadata": {},
   "outputs": [],
   "source": [
    "points = list(map(int,points))\n",
    "x , y =  [] , []\n",
    "for i in range(len(points[1:])) :\n",
    "    if i%2 == 0 :\n",
    "        x.append(points[1:][i])\n",
    "    else :\n",
    "        y.append(points[1:][i])"
   ]
  },
  {
   "cell_type": "code",
   "execution_count": null,
   "metadata": {},
   "outputs": [],
   "source": [
    "x = np.asarray(x)\n",
    "y = np.asarray(y)"
   ]
  },
  {
   "cell_type": "code",
   "execution_count": null,
   "metadata": {},
   "outputs": [],
   "source": [
    "img.shape"
   ]
  },
  {
   "cell_type": "code",
   "execution_count": null,
   "metadata": {},
   "outputs": [],
   "source": [
    "plt.imshow(img2)\n",
    "plt.scatter(x/1024 *300,y/768 * 300,color='red')\n",
    "plt.show()"
   ]
  },
  {
   "cell_type": "code",
   "execution_count": null,
   "metadata": {},
   "outputs": [],
   "source": [
    "X = []\n",
    "y = []"
   ]
  },
  {
   "cell_type": "markdown",
   "metadata": {},
   "source": [
    "There are totally 7 folders containing the Cat photos with the landmark data from CAT_00 to CAT_06 ,\n",
    "Since loading the whole dataset in numpy arrays wasn't possible , I trained them in batches , i.e I trained for 50 epochs with k in range 0 to 4 once \n",
    "and from k in range 4 to 6 the other time and repeated the process few times . \n",
    "\n"
   ]
  },
  {
   "cell_type": "code",
   "execution_count": null,
   "metadata": {},
   "outputs": [],
   "source": [
    "for k in range(4,7):\n",
    "    \n",
    "    j = 'CAT_0' + str(k)\n",
    "    \n",
    "  \n",
    "    for i in os.listdir('../input/cat-dataset/'+j) :\n",
    "        if '.jpg' not in i or '.cat' in i :\n",
    "            continue\n",
    "        img = cv2.imread('../input/cat-dataset/'+j+'/'+i)\n",
    "        h , w , _ = img.shape\n",
    "        img = cv2.resize(img,(300,300))\n",
    "        \n",
    "        X.append(img)\n",
    "        \n",
    "        file = open('../input/cat-dataset/'+j+'/'+i+'.cat')\n",
    "    \n",
    "        points = file.read().strip().split(' ')\n",
    "        \n",
    "        x_p , y_p =  [] , []\n",
    "        \n",
    "        points = list(map(int,points))\n",
    "        \n",
    "        if points[0] != 9 :\n",
    "            print(\"Not 9\")\n",
    "            continue\n",
    "            \n",
    "        for l in range(len(points[1:])) :\n",
    "            if l%2 == 0 :\n",
    "                x_p.append(points[1:][l])\n",
    "            else :\n",
    "                y_p.append(points[1:][l])\n",
    "                \n",
    "        x_p = np.array(x_p)\n",
    "        y_p = np.array(y_p)\n",
    "        x_p = x_p / w * 300\n",
    "        y_p = y_p /h * 300\n",
    "        \n",
    "                \n",
    "        y.append(np.append(x_p,y_p))\n"
   ]
  },
  {
   "cell_type": "code",
   "execution_count": null,
   "metadata": {},
   "outputs": [],
   "source": [
    "X = np.array(X)\n",
    "y = np.array(y)"
   ]
  },
  {
   "cell_type": "code",
   "execution_count": null,
   "metadata": {},
   "outputs": [],
   "source": [
    "model = tf.keras.Sequential([\n",
    "    \n",
    "    tf.keras.layers.Conv2D(64 ,(5,5), input_shape=(300,300,3),activation='relu'),\n",
    "    tf.keras.layers.Conv2D(128,(5,5),activation='relu'),\n",
    "    tf.keras.layers.MaxPool2D(),\n",
    "    tf.keras.layers.BatchNormalization(),\n",
    "    \n",
    "    tf.keras.layers.Conv2D(128,(5,5),activation='relu'),\n",
    "    tf.keras.layers.Conv2D(128,(3,3),activation='relu'),\n",
    "    tf.keras.layers.MaxPool2D(),\n",
    "    tf.keras.layers.BatchNormalization(),\n",
    "    \n",
    "    tf.keras.layers.Conv2D(256,(3,3),activation='relu'),\n",
    "    tf.keras.layers.Conv2D(256,(3,3),activation='relu'),\n",
    "    tf.keras.layers.MaxPool2D(),\n",
    "    tf.keras.layers.BatchNormalization(),\n",
    "    \n",
    "    \n",
    "    tf.keras.layers.Conv2D(512,(3,3),activation='relu'),\n",
    "    tf.keras.layers.Conv2D(512,(3,3),activation='relu'),\n",
    "    tf.keras.layers.MaxPool2D(),\n",
    "    tf.keras.layers.BatchNormalization(),\n",
    "    \n",
    "    tf.keras.layers.Conv2D(1024,(3,3),activation='relu'),\n",
    "    tf.keras.layers.Conv2D(1024,(3,3),activation='relu'),\n",
    "    tf.keras.layers.MaxPool2D(),\n",
    "    tf.keras.layers.BatchNormalization(),\n",
    "    \n",
    "    \n",
    "    tf.keras.layers.Flatten(),\n",
    "    tf.keras.layers.Dense(128,activation='relu'),\n",
    "    tf.keras.layers.Dense(18),\n",
    "    \n",
    "    \n",
    "])"
   ]
  },
  {
   "cell_type": "code",
   "execution_count": null,
   "metadata": {},
   "outputs": [],
   "source": [
    "model.summary()"
   ]
  },
  {
   "cell_type": "code",
   "execution_count": null,
   "metadata": {},
   "outputs": [],
   "source": [
    "model = tf.keras.models.load_model('model.h5')"
   ]
  },
  {
   "cell_type": "code",
   "execution_count": null,
   "metadata": {},
   "outputs": [],
   "source": [
    "model.compile(optimizer='adam' , loss='mse' ,metrics=['mse','mae'])"
   ]
  },
  {
   "cell_type": "code",
   "execution_count": null,
   "metadata": {},
   "outputs": [],
   "source": [
    "from tensorflow.keras.callbacks import ModelCheckpoint\n",
    "checkpoint = ModelCheckpoint('model.h5',save_best_only = True ,save_weights_only = False ,verbose=1)"
   ]
  },
  {
   "cell_type": "code",
   "execution_count": null,
   "metadata": {},
   "outputs": [],
   "source": [
    "from sklearn.model_selection import train_test_split"
   ]
  },
  {
   "cell_type": "code",
   "execution_count": null,
   "metadata": {},
   "outputs": [],
   "source": [
    "X_train , X_test , y_train , y_test = train_test_split( X , y  ,test_size=0.1, random_state = 12)"
   ]
  },
  {
   "cell_type": "code",
   "execution_count": null,
   "metadata": {},
   "outputs": [],
   "source": [
    "hist = model.fit(X_train,y_train , validation_data=(X_test ,y_test ),callbacks=[checkpoint] , epochs=50)"
   ]
  }
 ],
 "metadata": {
  "kernelspec": {
   "display_name": "Python 3",
   "language": "python",
   "name": "python3"
  },
  "language_info": {
   "codemirror_mode": {
    "name": "ipython",
    "version": 3
   },
   "file_extension": ".py",
   "mimetype": "text/x-python",
   "name": "python",
   "nbconvert_exporter": "python",
   "pygments_lexer": "ipython3",
   "version": "3.7.6"
  }
 },
 "nbformat": 4,
 "nbformat_minor": 4
}
